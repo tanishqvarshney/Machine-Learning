{
 "cells": [
  {
   "cell_type": "markdown",
   "id": "4fd1ad02",
   "metadata": {},
   "source": [
    "# ANS 1"
   ]
  },
  {
   "cell_type": "markdown",
   "id": "16c36097",
   "metadata": {},
   "source": [
    "Machine learning Popularly known as ML is a branch of Artificial Intelligence (AI) that allows software applications to become more accurate at predicting outcomes without being explicitly programmed to do so. Machine learning algorithms use historical data as input to predict new output values."
   ]
  },
  {
   "cell_type": "markdown",
   "id": "e57bc879",
   "metadata": {},
   "source": [
    "# ANS 2"
   ]
  },
  {
   "cell_type": "markdown",
   "id": "8c255d36",
   "metadata": {},
   "source": [
    "The following are some of the issues where Machine Learning can be used:\n",
    "\n",
    "- Image Recognition : Image recognition is one of the most common applications of machine learning. It is used to identify objects, persons, places, digital images, etc. The popular use case of image recognition and face detection is Automatic friend tagging suggestion.\n",
    "- Speech Recognition : While using Google, we get an option of Search by voice, it comes under speech recognition, and it's a popular application of Machine Learning. Speech recognition is a process of converting voice instructions into text, and it is also known as Speech to text, or Computer based speech recognition At present, machine learning algorithms are widely used by various applications of speech recognition. Google assistant, Siri, Cortana, and Alexa are using speech recognition technology to follow the voice instructions.\n",
    "- Traffic prediction : It predicts the traffic conditions such as whether traffic is cleared, slow-moving, or heavily congested with the help of two ways: Real Time location of the vehicle form Google Map app and sensors Average time has taken on past days at the same time.\n",
    "- Product recommendations : Machine learning is widely used by various e-commerce and entertainment companies such as Amazon, Netflix, etc., for product recommendation to the user."
   ]
  },
  {
   "cell_type": "markdown",
   "id": "3802c54f",
   "metadata": {},
   "source": [
    "# ANS 3"
   ]
  },
  {
   "cell_type": "markdown",
   "id": "533d93b0",
   "metadata": {},
   "source": [
    "You split up the data containing known response variable values into two pieces. The training set is used to train the algorithm, and then you use the trained model on the test set to predict the response variable values that are already known."
   ]
  },
  {
   "cell_type": "markdown",
   "id": "398128f6",
   "metadata": {},
   "source": [
    "# ANS 4"
   ]
  },
  {
   "cell_type": "markdown",
   "id": "9aa5f60d",
   "metadata": {},
   "source": [
    "The two most common supervised learning tasks are Regression and Classification."
   ]
  },
  {
   "cell_type": "markdown",
   "id": "6def9b84",
   "metadata": {},
   "source": [
    "# ANS 5"
   ]
  },
  {
   "cell_type": "markdown",
   "id": "0e4bf0fd",
   "metadata": {},
   "source": [
    " Four common Unsupervised Tasks included Clustering, Visualization, Dimensionality Reduction, and Association Rule Learning."
   ]
  },
  {
   "cell_type": "markdown",
   "id": "8bc635c6",
   "metadata": {},
   "source": [
    "# ANS 6"
   ]
  },
  {
   "cell_type": "markdown",
   "id": "0e36f616",
   "metadata": {},
   "source": [
    "The best Machine Learning algorithm to allow a Robot to walk in unfamiliar terrains is Reinforced Learning, where the robot can learn from response of the terrain to optimize itself."
   ]
  },
  {
   "cell_type": "markdown",
   "id": "045f5ddf",
   "metadata": {},
   "source": [
    "# ANS 7"
   ]
  },
  {
   "cell_type": "markdown",
   "id": "196110ae",
   "metadata": {},
   "source": [
    "The Best Algorithm to Segment Customers into different groups is either Supervised Learning (if the groups have known labels) or Unsupervised Learning (if there are no group labels)."
   ]
  },
  {
   "cell_type": "markdown",
   "id": "901834a8",
   "metadata": {},
   "source": [
    "# ANS 8"
   ]
  },
  {
   "cell_type": "markdown",
   "id": "2f11ee18",
   "metadata": {},
   "source": [
    "Spam detection is a Supervised Machine Learning problem because the labels are known (spam or no spam)."
   ]
  },
  {
   "cell_type": "markdown",
   "id": "a8a2daff",
   "metadata": {},
   "source": [
    "# ANS 9"
   ]
  },
  {
   "cell_type": "markdown",
   "id": "bc0a2382",
   "metadata": {},
   "source": [
    "Online learning system is a learning system in which the machine learns continously, as data is given in small streams continuously."
   ]
  },
  {
   "cell_type": "markdown",
   "id": "4516818b",
   "metadata": {},
   "source": [
    "# ANS 10"
   ]
  },
  {
   "cell_type": "markdown",
   "id": "53fef5dd",
   "metadata": {},
   "source": [
    "Out-of-core learning system is a system that can handle data that cannot fit into your computer memory. It uses online learning system to feed data in small bits."
   ]
  },
  {
   "cell_type": "markdown",
   "id": "1e7ed32c",
   "metadata": {},
   "source": [
    "# ANS 11"
   ]
  },
  {
   "cell_type": "markdown",
   "id": "0d426833",
   "metadata": {},
   "source": [
    "Learning algorithm that relies on a similarity measure to make predictions is Instance Based Algorithm."
   ]
  },
  {
   "cell_type": "markdown",
   "id": "8c882d80",
   "metadata": {},
   "source": [
    "# ANS 12"
   ]
  },
  {
   "cell_type": "markdown",
   "id": "5943f78f",
   "metadata": {},
   "source": [
    "Model parameter determines how a model will predict given a new instance. Model usually has more than one parameter (i.e. slope of a linear model). Hyperparameter is a parameter for the learning algorithm, not of a model."
   ]
  },
  {
   "cell_type": "markdown",
   "id": "ede8a52d",
   "metadata": {},
   "source": [
    "# ANS 13"
   ]
  },
  {
   "cell_type": "markdown",
   "id": "5c4b31c4",
   "metadata": {},
   "source": [
    "Model based learning algorithm search for the optimal value of parameters in a model that will give the best results for the new instances. We often use a cost function or similar to determine what the parameter value has to be in order to minimize the function. The model makes prediction by using the value of the new instance and the parameters in its function."
   ]
  },
  {
   "cell_type": "markdown",
   "id": "635999dd",
   "metadata": {},
   "source": [
    "# ANS 14"
   ]
  },
  {
   "cell_type": "markdown",
   "id": "bd73ded0",
   "metadata": {},
   "source": [
    "Four main challenges in Machine Learning include the following:\n",
    "\n",
    "- Overfitting the Data (using a model too complicated)\n",
    "- Underfitting the data (using a simple model)\n",
    "- Lacking in Data\n",
    "- Non Representative Data."
   ]
  },
  {
   "cell_type": "markdown",
   "id": "ccfc141d",
   "metadata": {},
   "source": [
    "# ANS 15"
   ]
  },
  {
   "cell_type": "markdown",
   "id": "2db27bc3",
   "metadata": {},
   "source": [
    "If the model performs poorly to new instances, then it has overfitted on the training data. To solve this, we can do any of the following three:\n",
    "\n",
    "- Get more data\n",
    "- Implement a simpler model\n",
    "- Eliminate outliers or noise from the existing data set."
   ]
  },
  {
   "cell_type": "markdown",
   "id": "bcf524db",
   "metadata": {},
   "source": [
    "# ANS 16"
   ]
  },
  {
   "cell_type": "markdown",
   "id": "a0772e2f",
   "metadata": {},
   "source": [
    "Test set is a set to test your model (fit using training data) to see how it performs.Test set is necessary to determine how good (or bad) a model performs."
   ]
  },
  {
   "cell_type": "markdown",
   "id": "dc5775db",
   "metadata": {},
   "source": [
    "# ANS 17"
   ]
  },
  {
   "cell_type": "markdown",
   "id": "434ca3f1",
   "metadata": {},
   "source": [
    "Validation set is a set used to compare between different training models."
   ]
  },
  {
   "cell_type": "markdown",
   "id": "74abb07b",
   "metadata": {},
   "source": [
    "# ANS 18"
   ]
  },
  {
   "cell_type": "markdown",
   "id": "5e0b7180",
   "metadata": {},
   "source": [
    "Cross-validation is a tool to compare models without needing a separate validation set. It is preferred over validation set because we can save from breaking of part of the training set to create a validation set, as having more data is valuable regardless."
   ]
  },
  {
   "cell_type": "markdown",
   "id": "f0f12e35",
   "metadata": {},
   "source": [
    "# ANS 19"
   ]
  },
  {
   "cell_type": "markdown",
   "id": "91b8454a",
   "metadata": {},
   "source": [
    " If you tune hyperparameters using the test sets, then it may not perform well on the out-of-sample data because the model is tuned just for that specific set."
   ]
  }
 ],
 "metadata": {
  "kernelspec": {
   "display_name": "Python 3 (ipykernel)",
   "language": "python",
   "name": "python3"
  },
  "language_info": {
   "codemirror_mode": {
    "name": "ipython",
    "version": 3
   },
   "file_extension": ".py",
   "mimetype": "text/x-python",
   "name": "python",
   "nbconvert_exporter": "python",
   "pygments_lexer": "ipython3",
   "version": "3.9.12"
  }
 },
 "nbformat": 4,
 "nbformat_minor": 5
}
