{
 "cells": [
  {
   "cell_type": "markdown",
   "id": "a8cb5585",
   "metadata": {},
   "source": [
    "# ANS 1"
   ]
  },
  {
   "cell_type": "markdown",
   "id": "3c2df567",
   "metadata": {},
   "source": [
    "Algebraically, a linear equation typically takes the form y = mx + b, where m and b are constants, x is the independent variable, y is the dependent variable. The slope tells us how the dependent variable (y) changes for every one unit increase in the independent (x) variable, on average.\n",
    "\n",
    "The variables in a study of a cause-and-effect relationship are called the independent and dependent variables. The independent variable is the cause. Its value is independent of other variables in your study. The dependent variable is the effect"
   ]
  },
  {
   "cell_type": "markdown",
   "id": "25bac2b1",
   "metadata": {},
   "source": [
    "# ANS 2"
   ]
  },
  {
   "cell_type": "markdown",
   "id": "bcd2bbac",
   "metadata": {},
   "source": [
    "Simple linear regression is a regression model that estimates the relationship between one independent variable and one dependent variable using a straight line. Both variables should be quantitative. Linear regression most often uses mean-square error (MSE) to calculate the error of the model.\n",
    "\n",
    "For example, suppose that height was the only determinant of body weight.In this example, if an individual was 70 inches tall, we would predict his weight to be: Weight = 80 + 2 x (70) = 220 lbs. In this simple linear regression, we are examining the impact of one independent variable on the outcome."
   ]
  },
  {
   "cell_type": "markdown",
   "id": "28bfe7c0",
   "metadata": {},
   "source": [
    "# ANS 3"
   ]
  },
  {
   "cell_type": "markdown",
   "id": "5fe2da10",
   "metadata": {},
   "source": [
    "The slope of a regression line (b) represents the rate of change in y as x changes. Because y is dependent on x, the slope describes the predicted values of y given x. The slope must be calculated before the y-intercept when using a linear regression, as the intercept is calculated using the slope."
   ]
  },
  {
   "cell_type": "markdown",
   "id": "2ec2640b",
   "metadata": {},
   "source": [
    "# ANS 4"
   ]
  },
  {
   "cell_type": "markdown",
   "id": "2354b989",
   "metadata": {},
   "source": [
    "The graph's slope, where the lower point on the line is represented as (3, 2) and the higher point is represented as (2, 2) is 0"
   ]
  },
  {
   "cell_type": "markdown",
   "id": "54f7952d",
   "metadata": {},
   "source": [
    "# ANS 5"
   ]
  },
  {
   "cell_type": "markdown",
   "id": "f365a842",
   "metadata": {},
   "source": [
    " If the slope is positive, y increases as x increases, and the function runs \"uphill\" (going left to right). If the slope is zero, y does not change, thus is constant—a horizontal line."
   ]
  },
  {
   "cell_type": "markdown",
   "id": "2327d57e",
   "metadata": {},
   "source": [
    "# ANS 6"
   ]
  },
  {
   "cell_type": "markdown",
   "id": "9786da2e",
   "metadata": {},
   "source": [
    " If the slope is negative, y decreases as x increases and the function runs downhill."
   ]
  },
  {
   "cell_type": "markdown",
   "id": "c96ea16b",
   "metadata": {},
   "source": [
    "# ANS 7"
   ]
  },
  {
   "cell_type": "markdown",
   "id": "804ca73d",
   "metadata": {},
   "source": [
    "Multiple linear regression refers to a statistical technique that uses two or more independent variables to predict the outcome of a dependent variable. The technique enables analysts to determine the variation of the model and the relative contribution of each independent variable in the total variance."
   ]
  },
  {
   "cell_type": "markdown",
   "id": "a95f5f00",
   "metadata": {},
   "source": [
    "# ANS 8"
   ]
  },
  {
   "cell_type": "markdown",
   "id": "addd4b91",
   "metadata": {},
   "source": [
    " The mean squared error (MSE) tells you how close a regression line is to a set of points. It does this by taking the distances from the points to the regression line (these distances are the “errors”) and squaring them. It's called the mean squared error as you're finding the average of a set of errors."
   ]
  },
  {
   "cell_type": "markdown",
   "id": "9dcc18e3",
   "metadata": {},
   "source": [
    "# ANS 9"
   ]
  },
  {
   "cell_type": "markdown",
   "id": "4e2341c3",
   "metadata": {},
   "source": [
    "Sum of squares is a statistical technique used in regression analysis to determine the dispersion of data points. In a regression analysis, the goal is to determine how well a data series can be fitted to a function that might help to explain how the data series was generated."
   ]
  },
  {
   "cell_type": "markdown",
   "id": "1965fcab",
   "metadata": {},
   "source": [
    "# ANS 10"
   ]
  },
  {
   "cell_type": "markdown",
   "id": "b217c2c2",
   "metadata": {},
   "source": [
    " Multicollinearity occurs when two or more independent variables are highly correlated with one another in a regression model. This means that an independent variable can be predicted from another independent variable in a regression model."
   ]
  },
  {
   "cell_type": "markdown",
   "id": "93150e8e",
   "metadata": {},
   "source": [
    "# ANS 11"
   ]
  },
  {
   "cell_type": "markdown",
   "id": "44a9ee03",
   "metadata": {},
   "source": [
    "Heteroskedasticity (also spelled heteroscedasticity) refers to the error variance, or dependence of scattering, within a minimum of one independent variable within a particular sample.A common cause of variances outside the minimum requirement is often attributed to issues of data quality."
   ]
  },
  {
   "cell_type": "markdown",
   "id": "d871f53e",
   "metadata": {},
   "source": [
    "# ANS 12"
   ]
  },
  {
   "cell_type": "markdown",
   "id": "c1ceea71",
   "metadata": {},
   "source": [
    "Ridge Regression is a technique for analyzing multiple regression data that suffer from multicollinearity.By adding a degree of bias to the regression estimates, ridge regression reduces the standard errors. It is hoped that the net effect will be to give estimates that are more reliable."
   ]
  },
  {
   "cell_type": "markdown",
   "id": "edeb8f96",
   "metadata": {},
   "source": [
    "# ANS 13"
   ]
  },
  {
   "cell_type": "markdown",
   "id": "a5c3347a",
   "metadata": {},
   "source": [
    "In statistics and machine learning, lasso (least absolute shrinkage and selection operator; also Lasso or LASSO) is a regression analysis method that performs both variable selection and regularization in order to enhance the prediction accuracy and interpretability of the resulting statistical model."
   ]
  },
  {
   "cell_type": "markdown",
   "id": "4605e63d",
   "metadata": {},
   "source": [
    "# ANS 14"
   ]
  },
  {
   "cell_type": "markdown",
   "id": "1adca5e4",
   "metadata": {},
   "source": [
    "Polynomial Regression is a form of Linear regression known as a special case of Multiple linear regression which estimates the relationship as an nth degree polynomial. Polynomial Regression is sensitive to outliers so the presence of one or two outliers can also badly affect the performance."
   ]
  },
  {
   "cell_type": "markdown",
   "id": "784d4728",
   "metadata": {},
   "source": [
    "# ANS 15"
   ]
  },
  {
   "cell_type": "markdown",
   "id": "4e48c444",
   "metadata": {},
   "source": [
    "This is a generalization of linear regression that essentially replaces each input with a function of the input. (A linear basis function model that uses the identity function is just linear regression.)"
   ]
  },
  {
   "cell_type": "markdown",
   "id": "61871834",
   "metadata": {},
   "source": [
    "# ANS 16"
   ]
  },
  {
   "cell_type": "markdown",
   "id": "75ffe1ce",
   "metadata": {},
   "source": [
    "Logistic regression uses an equation as the representation, very much like linear regression. Input values (x) are combined linearly using weights or coefficient values (referred to as the Greek capital letter Beta) to predict an output value (y)."
   ]
  }
 ],
 "metadata": {
  "kernelspec": {
   "display_name": "Python 3 (ipykernel)",
   "language": "python",
   "name": "python3"
  },
  "language_info": {
   "codemirror_mode": {
    "name": "ipython",
    "version": 3
   },
   "file_extension": ".py",
   "mimetype": "text/x-python",
   "name": "python",
   "nbconvert_exporter": "python",
   "pygments_lexer": "ipython3",
   "version": "3.9.12"
  }
 },
 "nbformat": 4,
 "nbformat_minor": 5
}
