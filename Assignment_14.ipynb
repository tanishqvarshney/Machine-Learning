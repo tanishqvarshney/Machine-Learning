{
 "cells": [
  {
   "cell_type": "markdown",
   "id": "a45e6f01",
   "metadata": {},
   "source": [
    "# ANS 1"
   ]
  },
  {
   "cell_type": "markdown",
   "id": "be12c33e",
   "metadata": {},
   "source": [
    "Supervised learning, also known as supervised machine learning, is a subcategory of machine learning and artificial intelligence. It is defined by its use of labeled datasets to train algorithms that to classify data or predict outcomes accurately."
   ]
  },
  {
   "cell_type": "markdown",
   "id": "1e56a171",
   "metadata": {},
   "source": [
    "# ANS 2"
   ]
  },
  {
   "cell_type": "markdown",
   "id": "1dd7bb30",
   "metadata": {},
   "source": [
    "Supervised learning uses a training set to teach models to yield the desired output. This training dataset includes inputs and correct outputs, which allow the model to learn over time. The algorithm measures its accuracy through the loss function, adjusting until the error has been sufficiently minimized."
   ]
  },
  {
   "cell_type": "markdown",
   "id": "6f02798b",
   "metadata": {},
   "source": [
    "# ANS 3"
   ]
  },
  {
   "cell_type": "markdown",
   "id": "855b2f07",
   "metadata": {},
   "source": [
    "Example of Supervised Learning Algorithms are:\n",
    "\n",
    "- Linear Regression.\n",
    "- Nearest Neighbor.\n",
    "- Gaussian Naive Bayes.\n",
    "- Decision Trees.\n",
    "- Support Vector Machine (SVM)\n",
    "- Random Forest."
   ]
  },
  {
   "cell_type": "markdown",
   "id": "961e2458",
   "metadata": {},
   "source": [
    "# ANS 4"
   ]
  },
  {
   "cell_type": "markdown",
   "id": "d24d0edd",
   "metadata": {},
   "source": [
    "Fundamentally, classification is about predicting a label and regression is about predicting a quantity. That classification is the problem of predicting a discrete class label output for an example. That regression is the problem of predicting a continuous quantity output for an example."
   ]
  },
  {
   "cell_type": "markdown",
   "id": "6143f610",
   "metadata": {},
   "source": [
    " # ANS 5"
   ]
  },
  {
   "cell_type": "markdown",
   "id": "e69030a7",
   "metadata": {},
   "source": [
    "Popular algorithms that can be used for multi-class classification include:\n",
    "\n",
    "- k-Nearest Neighbors\n",
    "- Decision Trees.\n",
    "- Naive Bayes"
   ]
  },
  {
   "cell_type": "markdown",
   "id": "582f9f54",
   "metadata": {},
   "source": [
    "# ANS 6"
   ]
  },
  {
   "cell_type": "markdown",
   "id": "8082ab02",
   "metadata": {},
   "source": [
    "A support vector machine (SVM) is a supervised machine learning model that uses classification algorithms for two-group classification problems. After giving an SVM model sets of labeled training data for each category, they're able to categorize new text."
   ]
  },
  {
   "cell_type": "markdown",
   "id": "334dac43",
   "metadata": {},
   "source": [
    "# ANS 7"
   ]
  },
  {
   "cell_type": "markdown",
   "id": "ea1526b0",
   "metadata": {},
   "source": [
    " In cost-sensitive learning instead of each instance being either correctly or incorrectly classified, each class (or instance) is given a misclassification cost. Thus, instead of trying to optimize the accuracy, the problem is then to minimize the total misclassification cost."
   ]
  },
  {
   "cell_type": "markdown",
   "id": "16e510b3",
   "metadata": {},
   "source": [
    "# ANS 8"
   ]
  },
  {
   "cell_type": "markdown",
   "id": "cb6cd249",
   "metadata": {},
   "source": [
    "Support vectors are data points that are closer to the hyperplane and influence the position and orientation of the hyperplane. Using these support vectors, we maximize the margin of the classifier. Deleting the support vectors will change the position of the hyperplane. These are the points that help us build our SVM."
   ]
  },
  {
   "cell_type": "markdown",
   "id": "b5f44ef3",
   "metadata": {},
   "source": [
    "# ANS 9"
   ]
  },
  {
   "cell_type": "markdown",
   "id": "f0175fb8",
   "metadata": {},
   "source": [
    "SVM algorithms use a set of mathematical functions that are defined as the kernel. The function of kernel is to take data as input and transform it into the required form. These functions can be different types. For example linear, nonlinear, polynomial, radial basis function (RBF), and sigmoid."
   ]
  },
  {
   "cell_type": "markdown",
   "id": "7f97ddbe",
   "metadata": {},
   "source": [
    "# ANS 10"
   ]
  },
  {
   "cell_type": "markdown",
   "id": "8af43e67",
   "metadata": {},
   "source": [
    "SVM or Support Vector Machine is a linear model for classification and regression problems. It can solve linear and non-linear problems and work well for many practical problems. The idea of SVM is simple: The algorithm creates a line or a hyperplane which separates the data into classes."
   ]
  },
  {
   "cell_type": "markdown",
   "id": "d8390146",
   "metadata": {},
   "source": [
    "# ANS 11"
   ]
  },
  {
   "cell_type": "markdown",
   "id": "b967ff1e",
   "metadata": {},
   "source": [
    "SVM works relatively well when there is a clear margin of separation between classes. SVM is more effective in high dimensional spaces. SVM is effective in cases where the number of dimensions is greater than the number of samples.SVM is relatively memory efficient."
   ]
  },
  {
   "cell_type": "markdown",
   "id": "e66cfb8f",
   "metadata": {},
   "source": [
    "# ANS 12"
   ]
  },
  {
   "cell_type": "markdown",
   "id": "63fff2ec",
   "metadata": {},
   "source": [
    "SVM algorithm is not suitable for large data sets. SVM does not perform very well when the data set has more noise i.e. target classes are overlapping. In cases where the number of features for each data point exceeds the number of training data samples, the SVM will underperform."
   ]
  },
  {
   "cell_type": "markdown",
   "id": "03528b93",
   "metadata": {},
   "source": [
    "# ANS 13"
   ]
  },
  {
   "cell_type": "markdown",
   "id": "dd3b5ff4",
   "metadata": {},
   "source": [
    "The Short notes on below topics is:\n",
    "\n",
    "- The kNN algorithm has a validation flaw. The relatively low accuracy of kNN is caused by several factors. One of them is that every characteristic of the method has the same result on calculating distance. The solution of this problem is to give weight to each data characteristic.\n",
    "- In the kNN algorithm, the k value is chosen. The optimal K value usually found is the square root of N, where N is the total number of samples. Use an error plot or accuracy plot to find the most favorable K value. KNN performs well with multi-label classes, but you must be aware of the outliers.\n",
    "- A decision tree with inductive bias Shorter trees are preferred over longer ones. Trees that place high information gain attributes close to the root are preferred over those that do not."
   ]
  },
  {
   "cell_type": "markdown",
   "id": "874b0cdf",
   "metadata": {},
   "source": [
    "# ANS 14"
   ]
  },
  {
   "cell_type": "markdown",
   "id": "922aba0e",
   "metadata": {},
   "source": [
    "Some Advantages of KNN are:\n",
    "\n",
    "- Quick calculation time.\n",
    "- Simple algorithm – to interpret.\n",
    "- Versatile – useful for regression and classification.\n",
    "- High accuracy – you do not need to compare with better-supervised learning models."
   ]
  },
  {
   "cell_type": "markdown",
   "id": "68bebb0e",
   "metadata": {},
   "source": [
    "# ANS 15"
   ]
  },
  {
   "cell_type": "markdown",
   "id": "fb07b452",
   "metadata": {},
   "source": [
    "Some Disadvantages of KNN are:\n",
    "\n",
    "- Accuracy depends on the quality of the data.\n",
    "- With large data, the prediction stage might be slow.\n",
    "- Sensitive to the scale of the data and irrelevant features.\n",
    "- Require high memory – need to store all of the training data.\n",
    "- Given that it stores all of the training, it can be computationally expensive."
   ]
  },
  {
   "cell_type": "markdown",
   "id": "f4e8a71a",
   "metadata": {},
   "source": [
    "# ANS 16"
   ]
  },
  {
   "cell_type": "markdown",
   "id": "8b7117e9",
   "metadata": {},
   "source": [
    "A decision tree is a graphical representation of all the possible solutions to a decision based on certain conditions. Tree models where the target variable can take a finite set of values are called classification trees and target variable can take continuous values (numbers) are called regression trees."
   ]
  },
  {
   "cell_type": "markdown",
   "id": "c4cf95da",
   "metadata": {},
   "source": [
    "# ANS 17"
   ]
  },
  {
   "cell_type": "markdown",
   "id": "8351301b",
   "metadata": {},
   "source": [
    "A decision tree is a flowchart-like structure in which each internal node represents a \"test\" on an attribute (e.g. whether a coin flip comes up heads or tails), each branch represents the outcome of the test, and each leaf node represents a class label (decision taken after computing all attributes)."
   ]
  },
  {
   "cell_type": "markdown",
   "id": "b7039e43",
   "metadata": {},
   "source": [
    "# ANS 18"
   ]
  },
  {
   "cell_type": "markdown",
   "id": "ac08416a",
   "metadata": {},
   "source": [
    "Entropy helps us to build an appropriate decision tree for selecting the best splitter. Entropy can be defined as a measure of the purity of the sub split. Entropy always lies between 0 to 1. The entropy of any split can be calculate by this formula."
   ]
  },
  {
   "cell_type": "markdown",
   "id": "09447aed",
   "metadata": {},
   "source": [
    "# ANS 19"
   ]
  },
  {
   "cell_type": "markdown",
   "id": "6b93c65d",
   "metadata": {},
   "source": [
    "Information gain is the reduction in entropy or surprise by transforming a dataset and is often used in training decision trees.Information gain is calculated by comparing the entropy of the dataset before and after a transformation."
   ]
  },
  {
   "cell_type": "markdown",
   "id": "29b8bc28",
   "metadata": {},
   "source": [
    "# ANS 20"
   ]
  },
  {
   "cell_type": "markdown",
   "id": "1df6d80e",
   "metadata": {},
   "source": [
    " Advantages of Decision Trees :\n",
    "\n",
    "- Easy to read and interpret. One of the advantages of decision trees is that their outputs are easy to read and interpret without requiring statistical knowledge.\n",
    "- Easy to prepare.\n",
    "- Less data cleaning required."
   ]
  },
  {
   "cell_type": "markdown",
   "id": "e4af3f12",
   "metadata": {},
   "source": [
    "# ANS 21"
   ]
  },
  {
   "cell_type": "markdown",
   "id": "0a0155ae",
   "metadata": {},
   "source": [
    "Issues in Decision Tree Learning :\n",
    "\n",
    "- Overfitting the data.\n",
    "- Guarding against bad attribute choices.\n",
    "- Handling continuous valued attributes.\n",
    "- Handling missing attribute values.\n",
    "- Handling attributes with differing costs."
   ]
  },
  {
   "cell_type": "markdown",
   "id": "c1f154ec",
   "metadata": {},
   "source": [
    "# ANS 22"
   ]
  },
  {
   "cell_type": "markdown",
   "id": "b4db32fc",
   "metadata": {},
   "source": [
    "The random forest is a classification algorithm consisting of many decisions trees. It uses bagging and feature randomness when building each individual tree to try to create an uncorrelated forest of trees whose prediction by committee is more accurate than that of any individual tree."
   ]
  }
 ],
 "metadata": {
  "kernelspec": {
   "display_name": "Python 3 (ipykernel)",
   "language": "python",
   "name": "python3"
  },
  "language_info": {
   "codemirror_mode": {
    "name": "ipython",
    "version": 3
   },
   "file_extension": ".py",
   "mimetype": "text/x-python",
   "name": "python",
   "nbconvert_exporter": "python",
   "pygments_lexer": "ipython3",
   "version": "3.9.12"
  }
 },
 "nbformat": 4,
 "nbformat_minor": 5
}
